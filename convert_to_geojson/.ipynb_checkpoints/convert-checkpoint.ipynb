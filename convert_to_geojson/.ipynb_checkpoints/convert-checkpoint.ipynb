{
 "cells": [
  {
   "cell_type": "code",
   "execution_count": null,
   "id": "43bcd46c-bf76-41b2-8b0d-3b8af48d7cf4",
   "metadata": {},
   "outputs": [],
   "source": [
    "pip install geojson"
   ]
  },
  {
   "cell_type": "code",
   "execution_count": null,
   "id": "1d2c0a25-17b0-478b-9f33-8655695ae7f7",
   "metadata": {},
   "outputs": [],
   "source": []
  },
  {
   "cell_type": "code",
   "execution_count": null,
   "id": "b4e45f89-3a22-45de-b793-2314135cbec8",
   "metadata": {},
   "outputs": [],
   "source": [
    "# โหลดข้อมูล, ไลบรารี\n",
    "import pandas as pd\n",
    "import numpy as np\n",
    "\n",
    "# ข้อมูลดิบ\n",
    "df_sheet1 = spark.sql(\"SELECT * FROM Lake3.Sheet1\").toPandas()\n",
    "df_sheet1 = df_sheet1.rename(columns={\"ลำดับ\": \"ลำดับแปลง\"})\n",
    "\n",
    "# ข้อมูลน้ำบาดาลรัฐ\n",
    "df_ckan_wells2 = spark.sql(\"SELECT * FROM Lake3.Ckan_wells2\").toPandas()\n",
    "df_ckan_wells2 = df_ckan_wells2.sort_values(by='LATITUDE', ascending=False)\n",
    "df_ckan_wells2.drop(df_ckan_wells2.tail(1).index,inplace=True) # drop last row เพราะเป็นค่าว่าง\n",
    "df_ckan_wells2['Index'] = range(1, len(df_ckan_wells2) + 1)"
   ]
  },
  {
   "cell_type": "code",
   "execution_count": null,
   "id": "130eeee6-7509-4232-8b09-aaff2972d11b",
   "metadata": {},
   "outputs": [],
   "source": []
  }
 ],
 "metadata": {
  "kernelspec": {
   "display_name": "Python 3 (ipykernel)",
   "language": "python",
   "name": "python3"
  },
  "language_info": {
   "codemirror_mode": {
    "name": "ipython",
    "version": 3
   },
   "file_extension": ".py",
   "mimetype": "text/x-python",
   "name": "python",
   "nbconvert_exporter": "python",
   "pygments_lexer": "ipython3",
   "version": "3.11.7"
  }
 },
 "nbformat": 4,
 "nbformat_minor": 5
}
