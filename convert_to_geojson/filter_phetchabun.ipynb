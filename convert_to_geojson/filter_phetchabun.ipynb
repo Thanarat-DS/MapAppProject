{
 "cells": [
  {
   "cell_type": "markdown",
   "id": "994bc5e7-8065-4263-ac98-d52e08696dd0",
   "metadata": {},
   "source": [
    "## Prepare Data"
   ]
  },
  {
   "cell_type": "code",
   "execution_count": 10,
   "id": "00893cbc",
   "metadata": {},
   "outputs": [
    {
     "name": "stdout",
     "output_type": "stream",
     "text": [
      "Collecting geopandas\n",
      "  Downloading geopandas-1.0.1-py3-none-any.whl.metadata (2.2 kB)\n",
      "Requirement already satisfied: numpy>=1.22 in c:\\users\\localname\\appdata\\local\\programs\\python\\python311\\lib\\site-packages (from geopandas) (2.1.1)\n",
      "Collecting pyogrio>=0.7.2 (from geopandas)\n",
      "  Downloading pyogrio-0.9.0-cp311-cp311-win_amd64.whl.metadata (3.9 kB)\n",
      "Requirement already satisfied: packaging in c:\\users\\localname\\appdata\\roaming\\python\\python311\\site-packages (from geopandas) (24.1)\n",
      "Requirement already satisfied: pandas>=1.4.0 in c:\\users\\localname\\appdata\\local\\programs\\python\\python311\\lib\\site-packages (from geopandas) (2.2.2)\n",
      "Collecting pyproj>=3.3.0 (from geopandas)\n",
      "  Downloading pyproj-3.6.1-cp311-cp311-win_amd64.whl.metadata (31 kB)\n",
      "Requirement already satisfied: shapely>=2.0.0 in c:\\users\\localname\\appdata\\local\\programs\\python\\python311\\lib\\site-packages (from geopandas) (2.0.6)\n",
      "Requirement already satisfied: python-dateutil>=2.8.2 in c:\\users\\localname\\appdata\\local\\programs\\python\\python311\\lib\\site-packages (from pandas>=1.4.0->geopandas) (2.9.0.post0)\n",
      "Requirement already satisfied: pytz>=2020.1 in c:\\users\\localname\\appdata\\local\\programs\\python\\python311\\lib\\site-packages (from pandas>=1.4.0->geopandas) (2024.1)\n",
      "Requirement already satisfied: tzdata>=2022.7 in c:\\users\\localname\\appdata\\local\\programs\\python\\python311\\lib\\site-packages (from pandas>=1.4.0->geopandas) (2024.1)\n",
      "Collecting certifi (from pyogrio>=0.7.2->geopandas)\n",
      "  Downloading certifi-2024.8.30-py3-none-any.whl.metadata (2.2 kB)\n",
      "Requirement already satisfied: six>=1.5 in c:\\users\\localname\\appdata\\local\\programs\\python\\python311\\lib\\site-packages (from python-dateutil>=2.8.2->pandas>=1.4.0->geopandas) (1.16.0)\n",
      "Downloading geopandas-1.0.1-py3-none-any.whl (323 kB)\n",
      "Downloading pyogrio-0.9.0-cp311-cp311-win_amd64.whl (15.9 MB)\n",
      "   ---------------------------------------- 0.0/15.9 MB ? eta -:--:--\n",
      "   ---------------------------------------- 15.9/15.9 MB 91.5 MB/s eta 0:00:00\n",
      "Downloading pyproj-3.6.1-cp311-cp311-win_amd64.whl (6.1 MB)\n",
      "   ---------------------------------------- 0.0/6.1 MB ? eta -:--:--\n",
      "   ---------------------------------------- 6.1/6.1 MB 92.5 MB/s eta 0:00:00\n",
      "Downloading certifi-2024.8.30-py3-none-any.whl (167 kB)\n",
      "Installing collected packages: certifi, pyproj, pyogrio, geopandas\n",
      "Successfully installed certifi-2024.8.30 geopandas-1.0.1 pyogrio-0.9.0 pyproj-3.6.1\n",
      "Note: you may need to restart the kernel to use updated packages.\n"
     ]
    }
   ],
   "source": [
    "pip install geopandas"
   ]
  },
  {
   "cell_type": "code",
   "execution_count": 11,
   "id": "cc084151",
   "metadata": {},
   "outputs": [
    {
     "name": "stdout",
     "output_type": "stream",
     "text": [
      "    SHAPE_LENG     SHAPE_AREA GWAV        TDS YIELD                   DESC_T  \\\n",
      "0  2983.441041  375626.027328   G1  500-1,500    <5  Yield <5, Tds 500-1,500   \n",
      "1   572.284081   17414.248656   NA         NA    NA              ไม่มีข้อมูล   \n",
      "2   548.380017   20031.101685   NA         NA    NA              ไม่มีข้อมูล   \n",
      "3   475.473091   15665.833528   NA         NA    NA              ไม่มีข้อมูล   \n",
      "4   556.712872   20444.363500   NA         NA    NA              ไม่มีข้อมูล   \n",
      "\n",
      "     AREA_RAI   AREA_KM                                           geometry  \n",
      "0  234.766267  0.375626  POLYGON ((99.84099 6.70186, 99.84084 6.70197, ...  \n",
      "1   10.883905  0.017414  POLYGON ((102.37468 11.80605, 102.37457 11.806...  \n",
      "2   12.519439  0.020031  POLYGON ((102.39536 11.81508, 102.39554 11.815...  \n",
      "3    9.791146  0.015666  POLYGON ((102.39492 11.81718, 102.3951 11.8172...  \n",
      "4   12.777727  0.020444  POLYGON ((102.4001 11.81897, 102.40022 11.8191...  \n",
      "   ID_0  ISO    NAME_0  ID_1      NAME_1    TYPE_1 ENGTYPE_1  \\\n",
      "0   228  THA  Thailand    42  Phetchabun  Changwat  Province   \n",
      "\n",
      "          NL_NAME_1 VARNAME_1  \\\n",
      "0  อำเภอเมืองเพชรบู      None   \n",
      "\n",
      "                                            geometry  \n",
      "0  POLYGON ((101.78736 16.76091, 101.77372 16.685...  \n",
      "        SHAPE_LENG    SHAPE_AREA GWAV     TDS YIELD                DESC_T  \\\n",
      "2436  7.756667e+05  2.081423e+09   B2    <500  2-10  Yield 2-10, Tds <500   \n",
      "2425  8.522179e+04  9.497249e+07   B2    <500  2-10  Yield 2-10, Tds <500   \n",
      "1164  1.463729e+05  3.753180e+08   B1    <500    <2    Yield <2, Tds <500   \n",
      "1259  1.014481e+06  2.544191e+09   B1    <500    <2    Yield <2, Tds <500   \n",
      "2446  2.394943e+04  1.972791e+07   B2    <500  2-10  Yield 2-10, Tds <500   \n",
      "...            ...           ...  ...     ...   ...                   ...   \n",
      "2765  3.979652e+04  3.032167e+07   B2    <500  2-10  Yield 2-10, Tds <500   \n",
      "2774  2.459242e+04  8.600631e+06   B2    <500  2-10  Yield 2-10, Tds <500   \n",
      "9378  6.412636e+03  1.499573e+06   R1  >1,500    <5  Yield <5, Tds >1,500   \n",
      "2800  1.399773e+04  6.252158e+06   B2    <500  2-10  Yield 2-10, Tds <500   \n",
      "2822  2.176127e+04  1.167280e+07   B2    <500  2-10  Yield 2-10, Tds <500   \n",
      "\n",
      "          AREA_RAI      AREA_KM  \\\n",
      "2436  1.300889e+06  2081.422515   \n",
      "2425  5.935780e+04    94.972485   \n",
      "1164  2.345738e+05   375.318032   \n",
      "1259  1.590120e+06  2544.191362   \n",
      "2446  1.232994e+04    19.727910   \n",
      "...            ...          ...   \n",
      "2765  1.895104e+04    30.321667   \n",
      "2774  5.375394e+03     8.600631   \n",
      "9378  9.372331e+02     1.499573   \n",
      "2800  3.907599e+03     6.252158   \n",
      "2822  7.295502e+03    11.672802   \n",
      "\n",
      "                                               geometry  \n",
      "2436  POLYGON ((101.21118 15.33339, 101.21083 15.333...  \n",
      "2425  MULTIPOLYGON (((101.09985 15.34836, 101.10106 ...  \n",
      "1164  MULTIPOLYGON (((101.01315 15.35789, 101.01468 ...  \n",
      "1259  MULTIPOLYGON (((100.8019 15.55403, 100.80174 1...  \n",
      "2446  POLYGON ((100.9918 15.37716, 100.99047 15.3798...  \n",
      "...                                                 ...  \n",
      "2765  POLYGON ((101.13793 16.40584, 101.13738 16.407...  \n",
      "2774  POLYGON ((101.00113 16.58019, 101.00329 16.580...  \n",
      "9378  POLYGON ((101.1436 16.70304, 101.14198 16.7021...  \n",
      "2800  POLYGON ((101.03754 16.70458, 101.03718 16.704...  \n",
      "2822  POLYGON ((100.9836 16.84719, 100.98403 16.8458...  \n",
      "\n",
      "[193 rows x 9 columns]\n"
     ]
    }
   ],
   "source": [
    "import geopandas as gpd\n",
    "import json\n",
    "\n",
    "# โหลดข้อมูล GeoJSON\n",
    "badarn_data = gpd.read_file('GWAV_เพชรบูรณ์.json')\n",
    "phetchabun_data = gpd.read_file('polygon_เพชรบูร์.json')\n",
    "\n",
    "# ตรวจสอบข้อมูล GeoDataFrames\n",
    "print(badarn_data.head())\n",
    "print(phetchabun_data.head())\n",
    "\n",
    "# ตัดทอน (clip) polygon ชั้นหินบาดาลด้วย polygon ของจังหวัดเพชรบูรณ์\n",
    "clipped_data = gpd.clip(badarn_data, phetchabun_data)\n",
    "\n",
    "# แสดงผลลัพธ์ที่ตัดทอนแล้ว\n",
    "print(clipped_data)\n",
    "\n",
    "# บันทึกผลลัพธ์ที่ตัดทอนแล้วกลับไปเป็น GeoJSON\n",
    "clipped_data.to_file('clipped_badarn_data.json', driver='GeoJSON', encoding='utf-8')\n"
   ]
  }
 ],
 "metadata": {
  "kernelspec": {
   "display_name": "Python 3 (ipykernel)",
   "language": "python",
   "name": "python3"
  },
  "language_info": {
   "codemirror_mode": {
    "name": "ipython",
    "version": 3
   },
   "file_extension": ".py",
   "mimetype": "text/x-python",
   "name": "python",
   "nbconvert_exporter": "python",
   "pygments_lexer": "ipython3",
   "version": "3.11.0"
  }
 },
 "nbformat": 4,
 "nbformat_minor": 5
}
