{
 "cells": [
  {
   "cell_type": "markdown",
   "id": "994bc5e7-8065-4263-ac98-d52e08696dd0",
   "metadata": {},
   "source": [
    "## Prepare Data"
   ]
  },
  {
   "cell_type": "code",
   "execution_count": 6,
   "id": "b4e45f89-3a22-45de-b793-2314135cbec8",
   "metadata": {},
   "outputs": [],
   "source": [
    "# โหลดข้อมูล, ไลบรารี\n",
    "import pandas as pd\n",
    "import geojson\n",
    "\n",
    "# ข้อมูลดิบ\n",
    "df_sheet1 = pd.read_excel(\"sheet1.xlsx\")\n",
    "df_sheet1 = df_sheet1.rename(columns={\"ลำดับ\": \"ลำดับแปลง\"})\n",
    "\n",
    "# ข้อมูลน้ำบาดาลรัฐ\n",
    "df_ckan_wells2 = pd.read_excel(\"Ckan_wells2.xlsx\")\n",
    "df_ckan_wells2 = df_ckan_wells2.sort_values(by='LATITUDE', ascending=False)\n",
    "df_ckan_wells2.drop(df_ckan_wells2.tail(1).index,inplace=True) # drop last row เพราะเป็นค่าว่าง\n",
    "df_ckan_wells2['Index'] = range(1, len(df_ckan_wells2) + 1)"
   ]
  },
  {
   "cell_type": "markdown",
   "id": "324824a6-c5b2-4c69-9fe8-d39dbf1e453a",
   "metadata": {},
   "source": [
    "## DataFrame to GeoJson"
   ]
  },
  {
   "cell_type": "markdown",
   "id": "78ec1ed1",
   "metadata": {},
   "source": [
    "#### ข้อมูลแปลงไร่"
   ]
  },
  {
   "cell_type": "code",
   "execution_count": 26,
   "id": "fc83c090-6997-42e1-b40f-503a87a221c2",
   "metadata": {},
   "outputs": [
    {
     "name": "stdout",
     "output_type": "stream",
     "text": [
      "{\n",
      "  \"type\": \"FeatureCollection\",\n",
      "  \"features\": [\n",
      "    {\n",
      "      \"type\": \"Feature\",\n",
      "      \"geometry\": {\n",
      "        \"type\": \"Point\",\n",
      "        \"coordinates\": [\n",
      "          100.967404,\n",
      "          15.626392\n",
      "        ]\n",
      "      },\n",
      "      \"properties\": {\n",
      "        \"ลำดับแปลง\": 1,\n",
      "        \"ตัน/ไร่ประเมิน67/68\": 12.0,\n",
      "        \"ตัน/ไร่เกิดจริงปี66/67\": \"ไม่ได้ต่อสัญญาปี66/67\"\n",
      "      }\n",
      "    },\n",
      "    {\n",
      "      \"type\": \"Feature\",\n",
      "      \"geometry\": {\n",
      "        \"type\": \"Point\",\n",
      "        \"coordinates\": [\n",
      "          100.911557,\n",
      "          15.422767\n",
      "        ]\n",
      "      },\n",
      "      \"properties\": {\n",
      "        \"ลำดับแปลง\": 2,\n",
      "        \"ตัน/ไร่ประเมิน67/68\": 10.0,\n",
      "        \"ตัน/ไร่เกิดจริงปี66/67\": \"ไม่ได้ต่อสัญญาปี66/67\"\n",
      "      }\n",
      "    },\n",
      "    {\n",
      "      \"type\": \"Feature\",\n",
      "      \"geometry\": {\n",
      "        \"type\": \"Point\",\n",
      "        \"coordinates\": [\n",
      "          100.914545,\n",
      "          15.692258\n",
      "        ]\n",
      "      },\n",
      "      \"properties\": {\n",
      "        \"ลำดับแปลง\": 3,\n",
      "        \"ตัน/ไร่ประเมิน67/68\": 12.0,\n",
      "        \"ตัน/ไร่เกิดจริงปี66/67\": \"ไม่ได้ต่อสัญญาปี66/67\"\n",
      "      }\n",
      "    \n"
     ]
    }
   ],
   "source": [
    "# สร้าง GeoJSON features จาก DataFrame\n",
    "features = []\n",
    "for _, row in df_sheet1.iterrows():\n",
    "    feature = geojson.Feature(\n",
    "        geometry=geojson.Point((row['Longitude'], row['Latitude'])),\n",
    "        properties={\n",
    "            'ลำดับแปลง': row['ลำดับแปลง'],\n",
    "            'ตัน/ไร่ประเมิน67/68': row['ตัน/ไร่ประเมิน67/68'],\n",
    "            'ตัน/ไร่เกิดจริงปี66/67': row['ตัน/ไร่เกิดจริงปี66/67']\n",
    "        }\n",
    "    )\n",
    "    features.append(feature)\n",
    "\n",
    "# สร้าง GeoJSON FeatureCollection\n",
    "feature_collection = geojson.FeatureCollection(features)\n",
    "\n",
    "# แปลงเป็น string หรือบันทึกเป็นไฟล์ GeoJSON\n",
    "geojson_str = geojson.dumps(feature_collection, ensure_ascii=False, indent=2)\n",
    "with open('output.json', 'w', encoding='utf-8') as f:\n",
    "    f.write(geojson_str)\n",
    "print(geojson_str[:1000])  # แสดงเฉพาะ 1000 ตัวอักษรแรก"
   ]
  },
  {
   "cell_type": "markdown",
   "id": "e7a4b341",
   "metadata": {},
   "source": [
    "#### ข้อมูลบ่อบาดาลจากรัฐบาล"
   ]
  },
  {
   "cell_type": "code",
   "execution_count": 25,
   "id": "9a31d116-5223-4185-96b6-72a1418efa34",
   "metadata": {},
   "outputs": [
    {
     "name": "stdout",
     "output_type": "stream",
     "text": [
      "{\n",
      "  \"type\": \"FeatureCollection\",\n",
      "  \"features\": [\n",
      "    {\n",
      "      \"type\": \"Feature\",\n",
      "      \"geometry\": {\n",
      "        \"type\": \"Point\",\n",
      "        \"coordinates\": [\n",
      "          101.391448,\n",
      "          17.101176\n",
      "        ]\n",
      "      },\n",
      "      \"properties\": {\n",
      "        \"หมายเลขบ่อน้ำบาดาล\": \"\\t'PW15334'\",\n",
      "        \"ชื่อตำบล\": \"ศิลา\",\n",
      "        \"ชื่ออำเภอ\": \"หล่มเก่า\",\n",
      "        \"ชื่อจังหวัด\": \"เพชรบูรณ์\",\n",
      "        \"ประเภทบ่อน้ำบาดาล\": \"อุปโภค-บริโภค\",\n",
      "        \"ความลึกเจาะ\": 60.0,\n",
      "        \"ความลึกพัฒนา\": 60.0,\n",
      "        \"ปริมาณน้ำ\": 1.5\n",
      "      }\n",
      "    },\n",
      "    {\n",
      "      \"type\": \"Feature\",\n",
      "      \"geometry\": {\n",
      "        \"type\": \"Point\",\n",
      "        \"coordinates\": [\n",
      "          101.391448,\n",
      "          17.101176\n",
      "        ]\n",
      "      },\n",
      "      \"properties\": {\n",
      "        \"หมายเลขบ่อน้ำบาดาล\": \"\\t'N599'\",\n",
      "        \"ชื่อตำบล\": \"ศิลา\",\n",
      "        \"ชื่ออำเภอ\": \"หล่มเก่า\",\n",
      "        \"ชื่อจังหวัด\": \"เพชรบูรณ์\",\n",
      "        \"ประเภทบ่อน้ำบาดาล\": \"อุปโภค-บริโภค\",\n",
      "        \"ความลึกเจาะ\": 36.0,\n",
      "        \"ความลึกพัฒนา\": 36.0,\n",
      "        \"ปริมาณน้ำ\": 3.18\n",
      "      }\n",
      "    },\n",
      "    {\n",
      "     \n"
     ]
    }
   ],
   "source": [
    "prov_list = ['ชัยภูมิ','นครราชสีมา','นครสวรรค์','พิจิตร', 'เพชรบูรณ์', 'ลพบุรี']\n",
    "df_ckan_wells_filter = df_ckan_wells2[df_ckan_wells2['ชื่อจังหวัด'].isin(prov_list)]\n",
    "\n",
    "# สร้าง GeoJSON features จาก DataFrame\n",
    "features = []\n",
    "for _, row in df_ckan_wells_filter.iterrows():\n",
    "    feature = geojson.Feature(\n",
    "        geometry=geojson.Point((row['LONGITUDE'], row['LATITUDE'])),\n",
    "        properties={\n",
    "            'หมายเลขบ่อน้ำบาดาล': row['หมายเลขบ่อน้ำบาดาล'],\n",
    "            'ชื่อตำบล': row['ชื่อตำบล'],\n",
    "            'ชื่ออำเภอ': row['ชื่ออำเภอ'],\n",
    "            'ชื่อจังหวัด': row['ชื่อจังหวัด'],\n",
    "            'ประเภทบ่อน้ำบาดาล': row['ประเภทบ่อน้ำบาดาล'],\n",
    "            'ความลึกเจาะ': row['ความลึกเจาะ'],\n",
    "            'ความลึกพัฒนา': row['ความลึกพัฒนา'],\n",
    "            'ปริมาณน้ำ': row['ปริมาณน้ำ']\n",
    "        }\n",
    "    )\n",
    "    features.append(feature)\n",
    "\n",
    "# สร้าง GeoJSON FeatureCollection\n",
    "feature_collection = geojson.FeatureCollection(features)\n",
    "\n",
    "# แปลงเป็น string หรือบันทึกเป็นไฟล์ GeoJSON\n",
    "geojson_str = geojson.dumps(feature_collection, ensure_ascii=False, indent=2)\n",
    "with open('output_groundwater.json', 'w', encoding='utf-8') as f:\n",
    "    f.write(geojson_str)\n",
    "print(geojson_str[:1000])  # แสดงเฉพาะ 1000 ตัวอักษรแรก"
   ]
  }
 ],
 "metadata": {
  "kernelspec": {
   "display_name": "Python 3 (ipykernel)",
   "language": "python",
   "name": "python3"
  },
  "language_info": {
   "codemirror_mode": {
    "name": "ipython",
    "version": 3
   },
   "file_extension": ".py",
   "mimetype": "text/x-python",
   "name": "python",
   "nbconvert_exporter": "python",
   "pygments_lexer": "ipython3",
   "version": "3.12.4"
  }
 },
 "nbformat": 4,
 "nbformat_minor": 5
}
